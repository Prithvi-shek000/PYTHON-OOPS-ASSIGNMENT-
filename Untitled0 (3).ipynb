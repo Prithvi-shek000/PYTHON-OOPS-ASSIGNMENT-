{
  "nbformat": 4,
  "nbformat_minor": 0,
  "metadata": {
    "colab": {
      "provenance": []
    },
    "kernelspec": {
      "name": "python3",
      "display_name": "Python 3"
    },
    "language_info": {
      "name": "python"
    }
  },
  "cells": [
    {
      "cell_type": "markdown",
      "source": [
        "                                            PYTHON OOPS ASSIGNMENT"
      ],
      "metadata": {
        "id": "Q4Ua-1QB2EQn"
      }
    },
    {
      "cell_type": "markdown",
      "source": [
        "                                     THEORITICAL QUESTIONS"
      ],
      "metadata": {
        "id": "X7mwCgut2JJr"
      }
    },
    {
      "cell_type": "markdown",
      "source": [
        "1. What is Object-Oriented Programming (OOP)?"
      ],
      "metadata": {
        "id": "XSlADaCy2OdS"
      }
    },
    {
      "cell_type": "markdown",
      "source": [
        "->Object-Oriented Programming (OOP) is a programming paradigm that organizes software design around objects, which are instances of classes. It emphasizes concepts like encapsulation, inheritance, polymorphism, and abstraction to structure code in a more modular, reusable, and maintainable way."
      ],
      "metadata": {
        "id": "EpVF4vHZ2Vma"
      }
    },
    {
      "cell_type": "markdown",
      "source": [
        "2.What is a class in OOP?"
      ],
      "metadata": {
        "id": "-7LB1HJa2gjl"
      }
    },
    {
      "cell_type": "markdown",
      "source": [
        "->In OOP, a class is a blueprint or template for creating objects. It defines the properties (attributes) and behaviors (methods) that the objects created from the class will have."
      ],
      "metadata": {
        "id": "16QFXH352lEp"
      }
    },
    {
      "cell_type": "markdown",
      "source": [
        "3.What is an object in OOP?"
      ],
      "metadata": {
        "id": "ZTixsr1Y2qqe"
      }
    },
    {
      "cell_type": "markdown",
      "source": [
        "->In OOP, an object is an instance of a class. It represents a specific entity with defined attributes and behaviors based on the class blueprint."
      ],
      "metadata": {
        "id": "p3zqFxBZ2uPs"
      }
    },
    {
      "cell_type": "markdown",
      "source": [
        "4.What is the difference between abstraction and encapsulation?"
      ],
      "metadata": {
        "id": "0HLA-Bv624Gg"
      }
    },
    {
      "cell_type": "markdown",
      "source": [
        "->Abstraction is the concept of hiding complex implementation details and showing only the essential features of an object. Encapsulation is the practice of bundling data (attributes) and methods (functions) that operate on the data within a single unit (class) and restricting direct access to some of the object's components."
      ],
      "metadata": {
        "id": "kFBMol5W28D5"
      }
    },
    {
      "cell_type": "markdown",
      "source": [
        "5.What are dunder methods in Python?"
      ],
      "metadata": {
        "id": "IVZl15SX3BL4"
      }
    },
    {
      "cell_type": "markdown",
      "source": [
        "->Dunder methods (short for \"double underscore\") in Python are special methods with double underscores before and after their names, like `__init__` or `__str__`. They allow customization of behavior for built-in operations, such as object initialization, string representation, and arithmetic operations."
      ],
      "metadata": {
        "id": "vpD_jlFs3EcE"
      }
    },
    {
      "cell_type": "markdown",
      "source": [
        "6.Explain the concept of inheritance in OOP?"
      ],
      "metadata": {
        "id": "621lXMg03JdR"
      }
    },
    {
      "cell_type": "markdown",
      "source": [
        "->Inheritance in OOP is a mechanism where a new class (child class) inherits attributes and methods from an existing class (parent class). It allows code reuse and the creation of a hierarchy, enabling the child class to extend or modify the behavior of the parent class."
      ],
      "metadata": {
        "id": "4SoN3yI43R0c"
      }
    },
    {
      "cell_type": "markdown",
      "source": [
        "7.What is polymorphism in OOP?"
      ],
      "metadata": {
        "id": "2X5j7DvV3Tom"
      }
    },
    {
      "cell_type": "markdown",
      "source": [
        "->Polymorphism in OOP is the ability of different classes to be treated as instances of the same class through a common interface. It allows methods to have different implementations based on the object’s class, enabling objects to behave in different ways."
      ],
      "metadata": {
        "id": "gK5UGgvP3XuL"
      }
    },
    {
      "cell_type": "markdown",
      "source": [
        "8.How is encapsulation achieved in Python?"
      ],
      "metadata": {
        "id": "oFeuhY793dDA"
      }
    },
    {
      "cell_type": "markdown",
      "source": [
        "->Encapsulation in Python is achieved by bundling data and methods into a class and restricting access to certain attributes or methods using access modifiers. Private attributes and methods are typically indicated with a single or double underscore (e.g., `_attribute` or `__attribute`), preventing direct access from outside the class."
      ],
      "metadata": {
        "id": "1bFttVuv3gsR"
      }
    },
    {
      "cell_type": "markdown",
      "source": [
        "9.What is a constructor in Python?"
      ],
      "metadata": {
        "id": "yZ4VCXv43oJD"
      }
    },
    {
      "cell_type": "markdown",
      "source": [
        "->A constructor in Python is a special method `__init__()` that is automatically called when a new object of a class is created. It initializes the object's attributes and sets up its initial state."
      ],
      "metadata": {
        "id": "ZVhY5rFv3wGS"
      }
    },
    {
      "cell_type": "markdown",
      "source": [
        "10.What are class and static methods in Python?"
      ],
      "metadata": {
        "id": "PxuD2T2I3xSN"
      }
    },
    {
      "cell_type": "markdown",
      "source": [
        "->In Python:\n",
        "\n",
        "- **Class method** is a method that takes the class itself as the first argument (`cls`) and is defined using the `@classmethod` decorator. It can access and modify class-level attributes.\n",
        "  \n",
        "- **Static method** is a method that doesn't take either the instance (`self`) or the class (`cls`) as the first argument. It is defined using the `@staticmethod` decorator and operates independently of instance or class attributes."
      ],
      "metadata": {
        "id": "ogKGm85Q31jM"
      }
    },
    {
      "cell_type": "markdown",
      "source": [
        "11.What is method overloading in Python?"
      ],
      "metadata": {
        "id": "RaNm2ddK38Qj"
      }
    },
    {
      "cell_type": "markdown",
      "source": [
        "->Method overloading in Python refers to defining multiple methods with the same name but different parameter lists. However, Python does not support traditional method overloading like other languages. Instead, it allows default arguments or variable-length argument lists to achieve similar functionality."
      ],
      "metadata": {
        "id": "f42hCriw4Aci"
      }
    },
    {
      "cell_type": "markdown",
      "source": [
        "12. What is method overriding in OOP?"
      ],
      "metadata": {
        "id": "HIIQ2A6j4F7A"
      }
    },
    {
      "cell_type": "markdown",
      "source": [
        "->Method overriding in OOP is when a subclass provides a specific implementation of a method that is already defined in its superclass. The subclass method has the same name and signature as the parent class method, allowing the subclass to modify or extend the inherited behavior."
      ],
      "metadata": {
        "id": "AXEDrGH64J5w"
      }
    },
    {
      "cell_type": "markdown",
      "source": [
        "13.What is a property decorator in Python?"
      ],
      "metadata": {
        "id": "pVGBbJMK4P0G"
      }
    },
    {
      "cell_type": "markdown",
      "source": [
        "->The `@property` decorator in Python is used to define a method as a property, allowing you to access it like an attribute. It provides a way to define getter, setter, and deleter methods for a class attribute without directly accessing it, enabling controlled access to the attribute."
      ],
      "metadata": {
        "id": "TPUQXLhM4T78"
      }
    },
    {
      "cell_type": "markdown",
      "source": [
        "14.Why is polymorphism important in OOP?"
      ],
      "metadata": {
        "id": "ozZ8MiCK4Z75"
      }
    },
    {
      "cell_type": "markdown",
      "source": [
        "->Polymorphism is important in OOP because it allows different objects to be treated as instances of the same class through a common interface, enabling flexibility and scalability in code. It promotes code reusability and simplifies maintenance by allowing methods to work with objects of various types."
      ],
      "metadata": {
        "id": "mZh0JcRE4eKq"
      }
    },
    {
      "cell_type": "markdown",
      "source": [
        "15.What is an abstract class in Python?"
      ],
      "metadata": {
        "id": "U3J6bUG54i-J"
      }
    },
    {
      "cell_type": "markdown",
      "source": [
        "->An abstract class in Python is a class that cannot be instantiated directly and is meant to be subclassed. It can contain abstract methods (methods without implementation) that must be implemented by subclasses. Abstract classes are defined using the `abc` module and the `ABC` class."
      ],
      "metadata": {
        "id": "GWCeroR84m1U"
      }
    },
    {
      "cell_type": "markdown",
      "source": [
        "16.What are the advantages of OOP?"
      ],
      "metadata": {
        "id": "kaM2a80p4smY"
      }
    },
    {
      "cell_type": "markdown",
      "source": [
        "->The advantages of OOP include:\n",
        "\n",
        "1. **Modularity**: Code is organized into classes and objects, making it easier to manage and maintain.\n",
        "2. **Reusability**: Inheritance allows code to be reused across multiple classes.\n",
        "3. **Scalability**: OOP supports the creation of large, complex systems through its hierarchical structure.\n",
        "4. **Maintainability**: Encapsulation and abstraction simplify debugging and modifying code.\n",
        "5. **Flexibility**: Polymorphism allows objects to be treated in multiple ways, enhancing code flexibility."
      ],
      "metadata": {
        "id": "Zb65jsg14wFn"
      }
    },
    {
      "cell_type": "markdown",
      "source": [
        "17.What is the difference between a class variable and an instance variable?"
      ],
      "metadata": {
        "id": "YfXFfFPF41VR"
      }
    },
    {
      "cell_type": "markdown",
      "source": [
        "->A **class variable** is shared by all instances of a class and is defined within the class itself, not inside any method. An **instance variable** is specific to an instance of a class and is typically defined inside methods, like the constructor, for each object."
      ],
      "metadata": {
        "id": "qDAIDLKx46FT"
      }
    },
    {
      "cell_type": "markdown",
      "source": [
        "18. What is multiple inheritance in Python?"
      ],
      "metadata": {
        "id": "hMzonP_S4_lC"
      }
    },
    {
      "cell_type": "markdown",
      "source": [
        "->Multiple inheritance in Python is a feature where a class can inherit attributes and methods from more than one parent class. This allows a subclass to combine functionality from multiple classes."
      ],
      "metadata": {
        "id": "GqiFblrT5DqZ"
      }
    },
    {
      "cell_type": "markdown",
      "source": [
        "19.Explain the purpose of ‘’__str__’ and ‘__repr__’ ‘ methods in Python."
      ],
      "metadata": {
        "id": "uRo2U--05I2Q"
      }
    },
    {
      "cell_type": "markdown",
      "source": [
        "->The `__str__` method in Python is used to define a human-readable string representation of an object, typically for printing or display purposes. The `__repr__` method is used to define a more formal or unambiguous string representation of an object, intended for debugging or development. If `__str__` is not defined, `__repr__` is used as a fallback for string conversion."
      ],
      "metadata": {
        "id": "HyaQi5Sn5Mhf"
      }
    },
    {
      "cell_type": "markdown",
      "source": [
        "20. What is the significance of the ‘super()’ function in Python?"
      ],
      "metadata": {
        "id": "dlIu6byk5R-v"
      }
    },
    {
      "cell_type": "markdown",
      "source": [
        "->The `super()` function in Python is used to call methods from a parent class in a subclass, allowing access to inherited methods and properties. It helps in method overriding, enabling the subclass to extend or modify the functionality of the parent class without completely overriding it."
      ],
      "metadata": {
        "id": "bGK1Nh4o5VVN"
      }
    },
    {
      "cell_type": "markdown",
      "source": [
        "21.What is the significance of the __del__ method in Python?"
      ],
      "metadata": {
        "id": "otqfumC45axe"
      }
    },
    {
      "cell_type": "markdown",
      "source": [
        "->The `__del__` method in Python is a destructor method that is automatically called when an object is about to be destroyed or garbage collected. It is used to clean up resources, such as closing files or network connections, before the object is removed from memory."
      ],
      "metadata": {
        "id": "VyCkdzr75gF5"
      }
    },
    {
      "cell_type": "markdown",
      "source": [
        "22.What is the difference between @staticmethod and @classmethod in Python?"
      ],
      "metadata": {
        "id": "jD5EFxl-5kzk"
      }
    },
    {
      "cell_type": "markdown",
      "source": [
        "->The difference between `@staticmethod` and `@classmethod` in Python:\n",
        "\n",
        "- `@staticmethod`: The method does not take a reference to the class or instance (no `self` or `cls`), and it behaves like a regular function but belongs to the class.\n",
        "- `@classmethod`: The method takes a reference to the class (`cls`) as its first argument and can modify class-level attributes, allowing it to operate on the class itself rather than an instance."
      ],
      "metadata": {
        "id": "bkrYreSS5oTQ"
      }
    },
    {
      "cell_type": "markdown",
      "source": [
        "23.How does polymorphism work in Python with inheritance?"
      ],
      "metadata": {
        "id": "Fs7RGjPG5tej"
      }
    },
    {
      "cell_type": "markdown",
      "source": [
        "->In Python, polymorphism with inheritance allows a subclass to define its own version of a method that is already defined in the parent class. When the method is called on an object, Python will use the subclass's version if it exists, enabling different behavior for different classes while using the same method name. This allows objects of different classes to be treated uniformly."
      ],
      "metadata": {
        "id": "-UWytRnT5wy7"
      }
    },
    {
      "cell_type": "markdown",
      "source": [
        "24.What is method chaining in Python OOP?"
      ],
      "metadata": {
        "id": "iw_pHVMy509_"
      }
    },
    {
      "cell_type": "markdown",
      "source": [
        "->Method chaining in Python OOP refers to calling multiple methods on the same object in a single line, where each method returns the object itself (usually via `self`). This allows for more concise and readable code by chaining method calls together."
      ],
      "metadata": {
        "id": "Gb7Klcjd56CT"
      }
    },
    {
      "cell_type": "markdown",
      "source": [
        "25.What is the purpose of the __call__ method in Python?"
      ],
      "metadata": {
        "id": "7dWWDzeY5_aa"
      }
    },
    {
      "cell_type": "markdown",
      "source": [
        "->The `__call__` method in Python allows an instance of a class to be called like a function. When this method is defined, you can invoke an object using parentheses, and it will execute the code inside the `__call__` method, making the object behave like a callable function."
      ],
      "metadata": {
        "id": "S2xoXrDr6C_y"
      }
    },
    {
      "cell_type": "markdown",
      "source": [
        "#                                           ***  PRACTICAL QUESTIONS ***"
      ],
      "metadata": {
        "id": "EZAY1REE6H21"
      }
    },
    {
      "cell_type": "markdown",
      "source": [
        "1. Create a parent class Animal with a method speak() that prints a generic message. Create a child class Dog\n",
        "that overrides the speak() method to print \"Bark!\"."
      ],
      "metadata": {
        "id": "s2s2RCCj6ax6"
      }
    },
    {
      "cell_type": "code",
      "source": [
        "class Animal:\n",
        "    def speak(self):\n",
        "        print(\"Animal makes a sound\")\n",
        "\n",
        "class Dog(Animal):\n",
        "    def speak(self):\n",
        "        print(\"Bark!\")\n",
        "\n",
        "dog = Dog()\n",
        "dog.speak()\n"
      ],
      "metadata": {
        "colab": {
          "base_uri": "https://localhost:8080/"
        },
        "id": "CIcEY9CG6hF7",
        "outputId": "716ab129-46d0-40da-b28d-c83bb257f46d"
      },
      "execution_count": 1,
      "outputs": [
        {
          "output_type": "stream",
          "name": "stdout",
          "text": [
            "Bark!\n"
          ]
        }
      ]
    },
    {
      "cell_type": "markdown",
      "source": [
        "2. Write a program to create an abstract class Shape with a method area(). Derive classes Circle and Rectangle\n",
        "from it and implement the area() method in both."
      ],
      "metadata": {
        "id": "bsXiqjPZ6thp"
      }
    },
    {
      "cell_type": "code",
      "source": [
        "from abc import ABC, abstractmethod\n",
        "import math\n",
        "\n",
        "class Shape(ABC):\n",
        "    @abstractmethod\n",
        "    def area(self):\n",
        "        pass\n",
        "\n",
        "class Circle(Shape):\n",
        "    def __init__(self, radius):\n",
        "        self.radius = radius\n",
        "\n",
        "    def area(self):\n",
        "        return math.pi * self.radius ** 2\n",
        "\n",
        "class Rectangle(Shape):\n",
        "    def __init__(self, width, height):\n",
        "        self.width = width\n",
        "        self.height = height\n",
        "\n",
        "    def area(self):\n",
        "        return self.width * self.height\n",
        "\n",
        "circle = Circle(5)\n",
        "rectangle = Rectangle(4, 6)\n",
        "\n",
        "print(circle.area())\n",
        "print(rectangle.area())\n"
      ],
      "metadata": {
        "colab": {
          "base_uri": "https://localhost:8080/"
        },
        "id": "IxULfoYm6xWv",
        "outputId": "ea04ed35-fd9d-4fdd-9f2e-7055c73c6a90"
      },
      "execution_count": 2,
      "outputs": [
        {
          "output_type": "stream",
          "name": "stdout",
          "text": [
            "78.53981633974483\n",
            "24\n"
          ]
        }
      ]
    },
    {
      "cell_type": "markdown",
      "source": [
        "3. Implement a multi-level inheritance scenario where a class Vehicle has an attribute type. Derive a class Car\n",
        "and further derive a class ElectricCar that adds a battery attribute."
      ],
      "metadata": {
        "id": "ilwfgr5S67x6"
      }
    },
    {
      "cell_type": "code",
      "source": [
        "class Vehicle:\n",
        "    def __init__(self, type):\n",
        "        self.type = type\n",
        "\n",
        "class Car(Vehicle):\n",
        "    def __init__(self, type, model):\n",
        "        super().__init__(type)\n",
        "        self.model = model\n",
        "\n",
        "class ElectricCar(Car):\n",
        "    def __init__(self, type, model, battery):\n",
        "        super().__init__(type, model)\n",
        "        self.battery = battery\n",
        "\n",
        "electric_car = ElectricCar(\"Electric\", \"Tesla\", \"100kWh\")\n",
        "print(electric_car.type, electric_car.model, electric_car.battery)\n"
      ],
      "metadata": {
        "colab": {
          "base_uri": "https://localhost:8080/"
        },
        "id": "Z38xduLv6_D-",
        "outputId": "8b45449c-9cb5-4494-fa3c-3a91a3db7ca9"
      },
      "execution_count": 3,
      "outputs": [
        {
          "output_type": "stream",
          "name": "stdout",
          "text": [
            "Electric Tesla 100kWh\n"
          ]
        }
      ]
    },
    {
      "cell_type": "markdown",
      "source": [
        "4.Demonstrate polymorphism by creating a base class Bird with a method fly(). Create two derived classes\n",
        "Sparrow and Penguin that override the fly() method."
      ],
      "metadata": {
        "id": "kr6IoFnf7HSB"
      }
    },
    {
      "cell_type": "code",
      "source": [
        "class Bird:\n",
        "    def fly(self):\n",
        "        print(\"Bird can fly\")\n",
        "\n",
        "class Sparrow(Bird):\n",
        "    def fly(self):\n",
        "        print(\"Sparrow flies\")\n",
        "\n",
        "class Penguin(Bird):\n",
        "    def fly(self):\n",
        "        print(\"Penguin cannot fly\")\n",
        "\n",
        "sparrow = Sparrow()\n",
        "penguin = Penguin()\n",
        "\n",
        "sparrow.fly()\n",
        "penguin.fly()\n"
      ],
      "metadata": {
        "colab": {
          "base_uri": "https://localhost:8080/"
        },
        "id": "DWi2GTqP7WZe",
        "outputId": "4177af10-bd92-4a22-9df3-5befbe20f6fd"
      },
      "execution_count": 4,
      "outputs": [
        {
          "output_type": "stream",
          "name": "stdout",
          "text": [
            "Sparrow flies\n",
            "Penguin cannot fly\n"
          ]
        }
      ]
    },
    {
      "cell_type": "markdown",
      "source": [
        "5. Write a program to demonstrate encapsulation by creating a class BankAccount with private attributes\n",
        "balance and methods to deposit, withdraw, and check balance."
      ],
      "metadata": {
        "id": "YDSvzVRU7aOb"
      }
    },
    {
      "cell_type": "code",
      "source": [
        "class BankAccount:\n",
        "    def __init__(self, balance=0):\n",
        "        self.__balance = balance\n",
        "\n",
        "    def deposit(self, amount):\n",
        "        if amount > 0:\n",
        "            self.__balance += amount\n",
        "\n",
        "    def withdraw(self, amount):\n",
        "        if 0 < amount <= self.__balance:\n",
        "            self.__balance -= amount\n",
        "\n",
        "    def check_balance(self):\n",
        "        return self.__balance\n",
        "\n",
        "account = BankAccount()\n",
        "account.deposit(1000)\n",
        "account.withdraw(500)\n",
        "print(account.check_balance())\n"
      ],
      "metadata": {
        "colab": {
          "base_uri": "https://localhost:8080/"
        },
        "id": "Vx2CMC_L7gU1",
        "outputId": "ab72f563-c5d5-4cb2-f06b-c23c882c7707"
      },
      "execution_count": 5,
      "outputs": [
        {
          "output_type": "stream",
          "name": "stdout",
          "text": [
            "500\n"
          ]
        }
      ]
    },
    {
      "cell_type": "markdown",
      "source": [
        "6.Demonstrate runtime polymorphism using a method play() in a base class Instrument. Derive classes Guitar\n",
        "and Piano that implement their own version of play()."
      ],
      "metadata": {
        "id": "m9TKDMdL7wXL"
      }
    },
    {
      "cell_type": "code",
      "source": [
        "class Instrument:\n",
        "    def play(self):\n",
        "        pass\n",
        "\n",
        "class Guitar(Instrument):\n",
        "    def play(self):\n",
        "        print(\"Playing the guitar\")\n",
        "\n",
        "class Piano(Instrument):\n",
        "    def play(self):\n",
        "        print(\"Playing the piano\")\n",
        "\n",
        "guitar = Guitar()\n",
        "piano = Piano()\n",
        "\n",
        "guitar.play()\n",
        "piano.play()\n"
      ],
      "metadata": {
        "colab": {
          "base_uri": "https://localhost:8080/"
        },
        "id": "cOjuwFX371As",
        "outputId": "4a89d01e-54c3-40b6-c8cd-4cda603aff68"
      },
      "execution_count": 6,
      "outputs": [
        {
          "output_type": "stream",
          "name": "stdout",
          "text": [
            "Playing the guitar\n",
            "Playing the piano\n"
          ]
        }
      ]
    },
    {
      "cell_type": "markdown",
      "source": [
        "7. Create a class MathOperations with a class method add_numbers() to add two numbers and a static\n",
        "method subtract_numbers() to subtract two numbers."
      ],
      "metadata": {
        "id": "0vglesjF8C2E"
      }
    },
    {
      "cell_type": "code",
      "source": [
        "class MathOperations:\n",
        "    @classmethod\n",
        "    def add_numbers(cls, a, b):\n",
        "        return a + b\n",
        "\n",
        "    @staticmethod\n",
        "    def subtract_numbers(a, b):\n",
        "        return a - b\n",
        "\n",
        "print(MathOperations.add_numbers(5, 3))\n",
        "print(MathOperations.subtract_numbers(5, 3))\n"
      ],
      "metadata": {
        "colab": {
          "base_uri": "https://localhost:8080/"
        },
        "id": "oDRse96l8EvI",
        "outputId": "306f7ed5-bf9b-48ef-8f33-2fd6d5ca5708"
      },
      "execution_count": 7,
      "outputs": [
        {
          "output_type": "stream",
          "name": "stdout",
          "text": [
            "8\n",
            "2\n"
          ]
        }
      ]
    },
    {
      "cell_type": "markdown",
      "source": [
        "8. Implement a class Person with a class method to count the total number of persons created."
      ],
      "metadata": {
        "id": "hl5Fh8qx8MIA"
      }
    },
    {
      "cell_type": "code",
      "source": [
        "class Person:\n",
        "    count = 0\n",
        "\n",
        "    def __init__(self):\n",
        "        Person.count += 1\n",
        "\n",
        "    @classmethod\n",
        "    def total_persons(cls):\n",
        "        return cls.count\n",
        "\n",
        "person1 = Person()\n",
        "person2 = Person()\n",
        "\n",
        "print(Person.total_persons())\n"
      ],
      "metadata": {
        "colab": {
          "base_uri": "https://localhost:8080/"
        },
        "id": "ZjOU2ttc8SQo",
        "outputId": "5f0ee5a8-d3b0-48f0-87e8-d89ed269dab9"
      },
      "execution_count": 8,
      "outputs": [
        {
          "output_type": "stream",
          "name": "stdout",
          "text": [
            "2\n"
          ]
        }
      ]
    },
    {
      "cell_type": "markdown",
      "source": [
        "9. Write a class Fraction with attributes numerator and denominator. Override the str method to display the\n",
        "fraction as \"numerator/denominator\"."
      ],
      "metadata": {
        "id": "BQCXrbeU8k_A"
      }
    },
    {
      "cell_type": "code",
      "source": [
        "class Fraction:\n",
        "    def __init__(self, numerator, denominator):\n",
        "        self.numerator = numerator\n",
        "        self.denominator = denominator\n",
        "\n",
        "    def __str__(self):\n",
        "        return f\"{self.numerator}/{self.denominator}\"\n",
        "\n",
        "fraction = Fraction(3, 4)\n",
        "print(fraction)\n"
      ],
      "metadata": {
        "colab": {
          "base_uri": "https://localhost:8080/"
        },
        "id": "CDPZjm4R8qWn",
        "outputId": "14b89fe8-3e50-408e-bd62-1282fdcdb11c"
      },
      "execution_count": 9,
      "outputs": [
        {
          "output_type": "stream",
          "name": "stdout",
          "text": [
            "3/4\n"
          ]
        }
      ]
    },
    {
      "cell_type": "markdown",
      "source": [
        "10. Demonstrate operator overloading by creating a class Vector and overriding the add method to add two\n",
        "vectors."
      ],
      "metadata": {
        "id": "-xv2HfGV8xgm"
      }
    },
    {
      "cell_type": "code",
      "source": [
        "class Vector:\n",
        "    def __init__(self, x, y):\n",
        "        self.x = x\n",
        "        self.y = y\n",
        "\n",
        "    def __add__(self, other):\n",
        "        return Vector(self.x + other.x, self.y + other.y)\n",
        "\n",
        "    def __str__(self):\n",
        "        return f\"({self.x}, {self.y})\"\n",
        "\n",
        "v1 = Vector(1, 2)\n",
        "v2 = Vector(3, 4)\n",
        "\n",
        "result = v1 + v2\n",
        "print(result)\n"
      ],
      "metadata": {
        "colab": {
          "base_uri": "https://localhost:8080/"
        },
        "id": "VN0Pcu_n81HD",
        "outputId": "533b684c-32a3-475d-ea68-e142d8df456b"
      },
      "execution_count": 10,
      "outputs": [
        {
          "output_type": "stream",
          "name": "stdout",
          "text": [
            "(4, 6)\n"
          ]
        }
      ]
    },
    {
      "cell_type": "markdown",
      "source": [
        "11.Create a class Person with attributes name and age. Add a method greet() that prints \"Hello, my name is\n",
        "{name} and I am {age} years old."
      ],
      "metadata": {
        "id": "pA8I-l0C897l"
      }
    },
    {
      "cell_type": "code",
      "source": [
        "class Person:\n",
        "    def __init__(self, name, age):\n",
        "        self.name = name\n",
        "        self.age = age\n",
        "\n",
        "    def greet(self):\n",
        "        print(f\"Hello, my name is {self.name} and I am {self.age} years old\")\n",
        "\n",
        "person = Person(\"John\", 30)\n",
        "person.greet()\n"
      ],
      "metadata": {
        "colab": {
          "base_uri": "https://localhost:8080/"
        },
        "id": "05bDEKTF9ChY",
        "outputId": "4af653af-8496-40d4-a60f-3d4baa3e0301"
      },
      "execution_count": 11,
      "outputs": [
        {
          "output_type": "stream",
          "name": "stdout",
          "text": [
            "Hello, my name is John and I am 30 years old\n"
          ]
        }
      ]
    },
    {
      "cell_type": "markdown",
      "source": [
        "12. Implement a class Student with attributes name and grades. Create a method average_grade() to compute\n",
        "the average of the grades."
      ],
      "metadata": {
        "id": "1zElSHmJ9KAk"
      }
    },
    {
      "cell_type": "code",
      "source": [
        "class Student:\n",
        "    def __init__(self, name, grades):\n",
        "        self.name = name\n",
        "        self.grades = grades\n",
        "\n",
        "    def average_grade(self):\n",
        "        return sum(self.grades) / len(self.grades)\n",
        "\n",
        "student = Student(\"Alice\", [90, 85, 88, 92])\n",
        "print(student.average_grade())\n"
      ],
      "metadata": {
        "colab": {
          "base_uri": "https://localhost:8080/"
        },
        "id": "Zw59BXIj9N8X",
        "outputId": "7e9753db-c272-467b-f79c-d10fa19fd0be"
      },
      "execution_count": 12,
      "outputs": [
        {
          "output_type": "stream",
          "name": "stdout",
          "text": [
            "88.75\n"
          ]
        }
      ]
    },
    {
      "cell_type": "markdown",
      "source": [
        "13.Create a class Rectangle with methods set_dimensions() to set the dimensions and area() to calculate the\n",
        "area."
      ],
      "metadata": {
        "id": "uX1TcKfY9VmU"
      }
    },
    {
      "cell_type": "code",
      "source": [
        "class Rectangle:\n",
        "    def __init__(self):\n",
        "        self.width = 0\n",
        "        self.height = 0\n",
        "\n",
        "    def set_dimensions(self, width, height):\n",
        "        self.width = width\n",
        "        self.height = height\n",
        "\n",
        "    def area(self):\n",
        "        return self.width * self.height\n",
        "\n",
        "rect = Rectangle()\n",
        "rect.set_dimensions(5, 4)\n",
        "print(rect.area())\n"
      ],
      "metadata": {
        "colab": {
          "base_uri": "https://localhost:8080/"
        },
        "id": "9ldVMNBe9ahP",
        "outputId": "b553e34c-8236-4e28-b08a-5052dd320b7c"
      },
      "execution_count": 13,
      "outputs": [
        {
          "output_type": "stream",
          "name": "stdout",
          "text": [
            "20\n"
          ]
        }
      ]
    },
    {
      "cell_type": "markdown",
      "source": [
        "14. Create a class Employee with a method calculate_salary() that computes the salary based on hours worked\n",
        "and hourly rate. Create a derived class Manager that adds a bonus to the salary."
      ],
      "metadata": {
        "id": "ZGgst7ZB9hsa"
      }
    },
    {
      "cell_type": "code",
      "source": [
        "class Employee:\n",
        "    def __init__(self, hours, rate):\n",
        "        self.hours = hours\n",
        "        self.rate = rate\n",
        "\n",
        "    def calculate_salary(self):\n",
        "        return self.hours * self.rate\n",
        "\n",
        "class Manager(Employee):\n",
        "    def __init__(self, hours, rate, bonus):\n",
        "        super().__init__(hours, rate)\n",
        "        self.bonus = bonus\n",
        "\n",
        "    def calculate_salary(self):\n",
        "        return super().calculate_salary() + self.bonus\n",
        "\n",
        "manager = Manager(40, 25, 500)\n",
        "print(manager.calculate_salary())\n"
      ],
      "metadata": {
        "colab": {
          "base_uri": "https://localhost:8080/"
        },
        "id": "3IcCeaRg9l4a",
        "outputId": "53658c96-3d4d-4134-9b27-88292bfa4534"
      },
      "execution_count": 14,
      "outputs": [
        {
          "output_type": "stream",
          "name": "stdout",
          "text": [
            "1500\n"
          ]
        }
      ]
    },
    {
      "cell_type": "markdown",
      "source": [
        "15. Create a class Product with attributes name, price, and quantity. Implement a method total_price() that\n",
        "calculates the total price of the product."
      ],
      "metadata": {
        "id": "DJ94YgwP9tWO"
      }
    },
    {
      "cell_type": "code",
      "source": [
        "class Product:\n",
        "    def __init__(self, name, price, quantity):\n",
        "        self.name = name\n",
        "        self.price = price\n",
        "        self.quantity = quantity\n",
        "\n",
        "    def total_price(self):\n",
        "        return self.price * self.quantity\n",
        "\n",
        "product = Product(\"Laptop\", 1000, 3)\n",
        "print(product.total_price())\n"
      ],
      "metadata": {
        "colab": {
          "base_uri": "https://localhost:8080/"
        },
        "id": "QaI1VgPH9xpK",
        "outputId": "5510a9ac-aa78-4291-aa45-7361588557ab"
      },
      "execution_count": 15,
      "outputs": [
        {
          "output_type": "stream",
          "name": "stdout",
          "text": [
            "3000\n"
          ]
        }
      ]
    },
    {
      "cell_type": "markdown",
      "source": [
        "16.Create a class Animal with an abstract method sound(). Create two derived classes Cow and Sheep that\n",
        "implement the sound() method."
      ],
      "metadata": {
        "id": "TgTu6lpe96ip"
      }
    },
    {
      "cell_type": "code",
      "source": [
        "from abc import ABC, abstractmethod\n",
        "\n",
        "class Animal(ABC):\n",
        "    @abstractmethod\n",
        "    def sound(self):\n",
        "        pass\n",
        "\n",
        "class Cow(Animal):\n",
        "    def sound(self):\n",
        "        print(\"Moo\")\n",
        "\n",
        "class Sheep(Animal):\n",
        "    def sound(self):\n",
        "        print(\"Baa\")\n",
        "\n",
        "cow = Cow()\n",
        "sheep = Sheep()\n",
        "\n",
        "cow.sound()\n",
        "sheep.sound()\n"
      ],
      "metadata": {
        "colab": {
          "base_uri": "https://localhost:8080/"
        },
        "id": "MM4KXy3Z9-w5",
        "outputId": "910f6d96-ab9b-4f61-fd5a-eb79bc0d043c"
      },
      "execution_count": 16,
      "outputs": [
        {
          "output_type": "stream",
          "name": "stdout",
          "text": [
            "Moo\n",
            "Baa\n"
          ]
        }
      ]
    },
    {
      "cell_type": "markdown",
      "source": [
        "17.Create a class Book with attributes title, author, and year_published. Add a method get_book_info() that\n",
        "returns a formatted string with the book's details."
      ],
      "metadata": {
        "id": "qDLxq59i-HtQ"
      }
    },
    {
      "cell_type": "code",
      "source": [
        "class Book:\n",
        "    def __init__(self, title, author, year_published):\n",
        "        self.title = title\n",
        "        self.author = author\n",
        "        self.year_published = year_published\n",
        "\n",
        "    def get_book_info(self):\n",
        "        return f\"Title: {self.title}, Author: {self.author}, Year: {self.year_published}\"\n",
        "\n",
        "book = Book(\"1984\", \"George Orwell\", 1949)\n",
        "print(book.get_book_info())\n"
      ],
      "metadata": {
        "colab": {
          "base_uri": "https://localhost:8080/"
        },
        "id": "Xr4Dqcrk-MhZ",
        "outputId": "ba7df3a6-b7b3-4df0-fe63-3cb58f1c4135"
      },
      "execution_count": 17,
      "outputs": [
        {
          "output_type": "stream",
          "name": "stdout",
          "text": [
            "Title: 1984, Author: George Orwell, Year: 1949\n"
          ]
        }
      ]
    },
    {
      "cell_type": "markdown",
      "source": [
        "18.Create a class House with attributes address and price. Create a derived class Mansion that adds an\n",
        "attribute number_of_rooms."
      ],
      "metadata": {
        "id": "CZKy7_IY-UVa"
      }
    },
    {
      "cell_type": "code",
      "source": [
        "class House:\n",
        "    def __init__(self, address, price):\n",
        "        self.address = address\n",
        "        self.price = price\n",
        "\n",
        "class Mansion(House):\n",
        "    def __init__(self, address, price, number_of_rooms):\n",
        "        super().__init__(address, price)\n",
        "        self.number_of_rooms = number_of_rooms\n",
        "\n",
        "mansion = Mansion(\"123 Luxury St\", 1000000, 10)\n",
        "print(mansion.address, mansion.price, mansion.number_of_rooms)\n"
      ],
      "metadata": {
        "colab": {
          "base_uri": "https://localhost:8080/"
        },
        "id": "cETdMQMk-YV3",
        "outputId": "5e1e02ea-8447-459f-c4f0-94e9dcd6a219"
      },
      "execution_count": 18,
      "outputs": [
        {
          "output_type": "stream",
          "name": "stdout",
          "text": [
            "123 Luxury St 1000000 10\n"
          ]
        }
      ]
    }
  ]
}